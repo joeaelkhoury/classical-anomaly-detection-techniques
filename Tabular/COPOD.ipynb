{
  "cells": [
    {
      "cell_type": "markdown",
      "metadata": {
        "id": "XzVlY4Iecv4t"
      },
      "source": [
        "# Copula-Based Outlier Detection (Copula-Based Outlier Detection)\n",
        "### Data\n",
        "* https://video.ittensive.com/machine-learning/hacktherealty/exposition_train.basic.csv.gz"
      ]
    },
    {
      "cell_type": "markdown",
      "metadata": {
        "id": "OKWUgpUpAJrv"
      },
      "source": [
        "### Importing libraries"
      ]
    },
    {
      "cell_type": "code",
      "execution_count": null,
      "metadata": {
        "id": "BMMIDKFYAJGG"
      },
      "outputs": [],
      "source": [
        "import pandas as pd\n",
        "import numpy as np\n",
        "from sklearn.cluster import KMeans\n",
        "from pyod.models.copod import COPOD\n",
        "from sklearn import metrics\n",
        "from sklearn.preprocessing import StandardScaler"
      ]
    },
    {
      "cell_type": "markdown",
      "metadata": {
        "id": "DGalDS_Mcv4y"
      },
      "source": [
        "### Loading data"
      ]
    },
    {
      "cell_type": "code",
      "execution_count": null,
      "metadata": {
        "id": "Osqmz8gucv4y",
        "outputId": "d989af55-51fd-46b4-e6f7-372160061be6"
      },
      "outputs": [
        {
          "data": {
            "text/html": [
              "<div>\n",
              "<style scoped>\n",
              "    .dataframe tbody tr th:only-of-type {\n",
              "        vertical-align: middle;\n",
              "    }\n",
              "\n",
              "    .dataframe tbody tr th {\n",
              "        vertical-align: top;\n",
              "    }\n",
              "\n",
              "    .dataframe thead th {\n",
              "        text-align: right;\n",
              "    }\n",
              "</style>\n",
              "<table border=\"1\" class=\"dataframe\">\n",
              "  <thead>\n",
              "    <tr style=\"text-align: right;\">\n",
              "      <th></th>\n",
              "      <th>total_area</th>\n",
              "      <th>ceiling_height</th>\n",
              "      <th>rooms</th>\n",
              "      <th>living_area</th>\n",
              "      <th>price</th>\n",
              "      <th>day_mean</th>\n",
              "      <th>doy_108</th>\n",
              "      <th>price_locality_name_median</th>\n",
              "      <th>target</th>\n",
              "    </tr>\n",
              "  </thead>\n",
              "  <tbody>\n",
              "    <tr>\n",
              "      <th>0</th>\n",
              "      <td>105.000000</td>\n",
              "      <td>3.00</td>\n",
              "      <td>3</td>\n",
              "      <td>50.000000</td>\n",
              "      <td>95000</td>\n",
              "      <td>2.456912</td>\n",
              "      <td>0</td>\n",
              "      <td>2.261905</td>\n",
              "      <td>1</td>\n",
              "    </tr>\n",
              "    <tr>\n",
              "      <th>1</th>\n",
              "      <td>40.000000</td>\n",
              "      <td>3.00</td>\n",
              "      <td>1</td>\n",
              "      <td>19.200001</td>\n",
              "      <td>25000</td>\n",
              "      <td>3.028689</td>\n",
              "      <td>0</td>\n",
              "      <td>1.000000</td>\n",
              "      <td>2</td>\n",
              "    </tr>\n",
              "    <tr>\n",
              "      <th>2</th>\n",
              "      <td>37.599998</td>\n",
              "      <td>2.64</td>\n",
              "      <td>0</td>\n",
              "      <td>19.000000</td>\n",
              "      <td>26000</td>\n",
              "      <td>3.091993</td>\n",
              "      <td>0</td>\n",
              "      <td>0.619048</td>\n",
              "      <td>2</td>\n",
              "    </tr>\n",
              "    <tr>\n",
              "      <th>3</th>\n",
              "      <td>80.000000</td>\n",
              "      <td>3.00</td>\n",
              "      <td>3</td>\n",
              "      <td>49.000000</td>\n",
              "      <td>35000</td>\n",
              "      <td>3.101010</td>\n",
              "      <td>0</td>\n",
              "      <td>1.250000</td>\n",
              "      <td>2</td>\n",
              "    </tr>\n",
              "    <tr>\n",
              "      <th>4</th>\n",
              "      <td>100.000000</td>\n",
              "      <td>3.00</td>\n",
              "      <td>3</td>\n",
              "      <td>49.000000</td>\n",
              "      <td>80000</td>\n",
              "      <td>2.495468</td>\n",
              "      <td>0</td>\n",
              "      <td>1.904762</td>\n",
              "      <td>3</td>\n",
              "    </tr>\n",
              "  </tbody>\n",
              "</table>\n",
              "</div>"
            ],
            "text/plain": [
              "   total_area  ceiling_height  rooms  living_area  price  day_mean  doy_108  \\\n",
              "0  105.000000            3.00      3    50.000000  95000  2.456912        0   \n",
              "1   40.000000            3.00      1    19.200001  25000  3.028689        0   \n",
              "2   37.599998            2.64      0    19.000000  26000  3.091993        0   \n",
              "3   80.000000            3.00      3    49.000000  35000  3.101010        0   \n",
              "4  100.000000            3.00      3    49.000000  80000  2.495468        0   \n",
              "\n",
              "   price_locality_name_median  target  \n",
              "0                    2.261905       1  \n",
              "1                    1.000000       2  \n",
              "2                    0.619048       2  \n",
              "3                    1.250000       2  \n",
              "4                    1.904762       3  "
            ]
          },
          "execution_count": 2,
          "metadata": {},
          "output_type": "execute_result"
        }
      ],
      "source": [
        "train_data = pd.read_csv('https://video.ittensive.com/machine-learning/hacktherealty/exposition_train.basic.csv.gz')\n",
        "train_data.head()"
      ]
    },
    {
      "cell_type": "markdown",
      "metadata": {
        "id": "8m9wlt8mcv4z"
      },
      "source": [
        "### Data normalization\n",
        "Normalize all values to the segment [0;1], remove the target from the data"
      ]
    },
    {
      "cell_type": "code",
      "execution_count": null,
      "metadata": {
        "id": "jnwHne_rcv40"
      },
      "outputs": [],
      "source": [
        "train_data_an = pd.DataFrame(StandardScaler().fit_transform(train_data[train_data.columns[:-1]]))"
      ]
    },
    {
      "cell_type": "code",
      "execution_count": null,
      "metadata": {
        "id": "AKXieRmfcv41",
        "outputId": "82aebb17-3496-404a-dd8a-5fa75c9b93ac"
      },
      "outputs": [
        {
          "data": {
            "text/html": [
              "<div>\n",
              "<style scoped>\n",
              "    .dataframe tbody tr th:only-of-type {\n",
              "        vertical-align: middle;\n",
              "    }\n",
              "\n",
              "    .dataframe tbody tr th {\n",
              "        vertical-align: top;\n",
              "    }\n",
              "\n",
              "    .dataframe thead th {\n",
              "        text-align: right;\n",
              "    }\n",
              "</style>\n",
              "<table border=\"1\" class=\"dataframe\">\n",
              "  <thead>\n",
              "    <tr style=\"text-align: right;\">\n",
              "      <th></th>\n",
              "      <th>0</th>\n",
              "      <th>1</th>\n",
              "      <th>2</th>\n",
              "      <th>3</th>\n",
              "      <th>4</th>\n",
              "      <th>5</th>\n",
              "      <th>6</th>\n",
              "      <th>7</th>\n",
              "    </tr>\n",
              "  </thead>\n",
              "  <tbody>\n",
              "    <tr>\n",
              "      <th>0</th>\n",
              "      <td>1.709793</td>\n",
              "      <td>1.115052</td>\n",
              "      <td>1.469889</td>\n",
              "      <td>1.025395</td>\n",
              "      <td>0.378181</td>\n",
              "      <td>-1.607090</td>\n",
              "      <td>-0.108831</td>\n",
              "      <td>0.278301</td>\n",
              "    </tr>\n",
              "    <tr>\n",
              "      <th>1</th>\n",
              "      <td>-0.483202</td>\n",
              "      <td>1.115052</td>\n",
              "      <td>-0.861151</td>\n",
              "      <td>-0.679471</td>\n",
              "      <td>-0.217544</td>\n",
              "      <td>0.337784</td>\n",
              "      <td>-0.108831</td>\n",
              "      <td>-0.132179</td>\n",
              "    </tr>\n",
              "    <tr>\n",
              "      <th>2</th>\n",
              "      <td>-0.564174</td>\n",
              "      <td>-0.645106</td>\n",
              "      <td>-2.026671</td>\n",
              "      <td>-0.690542</td>\n",
              "      <td>-0.209033</td>\n",
              "      <td>0.553112</td>\n",
              "      <td>-0.108831</td>\n",
              "      <td>-0.256098</td>\n",
              "    </tr>\n",
              "    <tr>\n",
              "      <th>3</th>\n",
              "      <td>0.866333</td>\n",
              "      <td>1.115052</td>\n",
              "      <td>1.469889</td>\n",
              "      <td>0.970042</td>\n",
              "      <td>-0.132440</td>\n",
              "      <td>0.583783</td>\n",
              "      <td>-0.108831</td>\n",
              "      <td>-0.050858</td>\n",
              "    </tr>\n",
              "    <tr>\n",
              "      <th>4</th>\n",
              "      <td>1.541101</td>\n",
              "      <td>1.115052</td>\n",
              "      <td>1.469889</td>\n",
              "      <td>0.970042</td>\n",
              "      <td>0.250526</td>\n",
              "      <td>-1.475943</td>\n",
              "      <td>-0.108831</td>\n",
              "      <td>0.162128</td>\n",
              "    </tr>\n",
              "  </tbody>\n",
              "</table>\n",
              "</div>"
            ],
            "text/plain": [
              "          0         1         2         3         4         5         6  \\\n",
              "0  1.709793  1.115052  1.469889  1.025395  0.378181 -1.607090 -0.108831   \n",
              "1 -0.483202  1.115052 -0.861151 -0.679471 -0.217544  0.337784 -0.108831   \n",
              "2 -0.564174 -0.645106 -2.026671 -0.690542 -0.209033  0.553112 -0.108831   \n",
              "3  0.866333  1.115052  1.469889  0.970042 -0.132440  0.583783 -0.108831   \n",
              "4  1.541101  1.115052  1.469889  0.970042  0.250526 -1.475943 -0.108831   \n",
              "\n",
              "          7  \n",
              "0  0.278301  \n",
              "1 -0.132179  \n",
              "2 -0.256098  \n",
              "3 -0.050858  \n",
              "4  0.162128  "
            ]
          },
          "execution_count": 4,
          "metadata": {},
          "output_type": "execute_result"
        }
      ],
      "source": [
        "train_data_an.head()"
      ]
    },
    {
      "cell_type": "markdown",
      "metadata": {
        "id": "Y2x0z6nycv41"
      },
      "source": [
        "### COPOD"
      ]
    },
    {
      "cell_type": "code",
      "execution_count": null,
      "metadata": {
        "id": "5sJZSQT-cv42"
      },
      "outputs": [],
      "source": [
        "copod = COPOD(contamination=0.001).fit(train_data_an)"
      ]
    },
    {
      "cell_type": "markdown",
      "metadata": {
        "id": "9sBTtgORcv42"
      },
      "source": [
        "Filter out the anomalous data"
      ]
    },
    {
      "cell_type": "code",
      "execution_count": null,
      "metadata": {
        "id": "PWDKTacacv43"
      },
      "outputs": [],
      "source": [
        "train_data_filtered = train_data_an[train_data_an.index.isin(np.where(copod.labels_==0)[0])]\n",
        "print (\"Percentage of anomalies:\", round(100*len(copod.labels_[np.where(copod.labels_==1)])/len(train_data_an),2), \"%\")"
      ]
    },
    {
      "cell_type": "code",
      "execution_count": null,
      "metadata": {
        "id": "18aN1napcv44",
        "outputId": "7e1ff115-f1a4-4758-d91f-4a9507c9292d"
      },
      "outputs": [
        {
          "data": {
            "text/html": [
              "<div>\n",
              "<style scoped>\n",
              "    .dataframe tbody tr th:only-of-type {\n",
              "        vertical-align: middle;\n",
              "    }\n",
              "\n",
              "    .dataframe tbody tr th {\n",
              "        vertical-align: top;\n",
              "    }\n",
              "\n",
              "    .dataframe thead th {\n",
              "        text-align: right;\n",
              "    }\n",
              "</style>\n",
              "<table border=\"1\" class=\"dataframe\">\n",
              "  <thead>\n",
              "    <tr style=\"text-align: right;\">\n",
              "      <th></th>\n",
              "      <th>0</th>\n",
              "      <th>1</th>\n",
              "      <th>2</th>\n",
              "      <th>3</th>\n",
              "      <th>4</th>\n",
              "      <th>5</th>\n",
              "      <th>6</th>\n",
              "      <th>7</th>\n",
              "    </tr>\n",
              "  </thead>\n",
              "  <tbody>\n",
              "    <tr>\n",
              "      <th>0</th>\n",
              "      <td>1.709793</td>\n",
              "      <td>1.115052</td>\n",
              "      <td>1.469889</td>\n",
              "      <td>1.025395</td>\n",
              "      <td>0.378181</td>\n",
              "      <td>-1.607090</td>\n",
              "      <td>-0.108831</td>\n",
              "      <td>0.278301</td>\n",
              "    </tr>\n",
              "    <tr>\n",
              "      <th>1</th>\n",
              "      <td>-0.483202</td>\n",
              "      <td>1.115052</td>\n",
              "      <td>-0.861151</td>\n",
              "      <td>-0.679471</td>\n",
              "      <td>-0.217544</td>\n",
              "      <td>0.337784</td>\n",
              "      <td>-0.108831</td>\n",
              "      <td>-0.132179</td>\n",
              "    </tr>\n",
              "    <tr>\n",
              "      <th>2</th>\n",
              "      <td>-0.564174</td>\n",
              "      <td>-0.645106</td>\n",
              "      <td>-2.026671</td>\n",
              "      <td>-0.690542</td>\n",
              "      <td>-0.209033</td>\n",
              "      <td>0.553112</td>\n",
              "      <td>-0.108831</td>\n",
              "      <td>-0.256098</td>\n",
              "    </tr>\n",
              "    <tr>\n",
              "      <th>3</th>\n",
              "      <td>0.866333</td>\n",
              "      <td>1.115052</td>\n",
              "      <td>1.469889</td>\n",
              "      <td>0.970042</td>\n",
              "      <td>-0.132440</td>\n",
              "      <td>0.583783</td>\n",
              "      <td>-0.108831</td>\n",
              "      <td>-0.050858</td>\n",
              "    </tr>\n",
              "    <tr>\n",
              "      <th>4</th>\n",
              "      <td>1.541101</td>\n",
              "      <td>1.115052</td>\n",
              "      <td>1.469889</td>\n",
              "      <td>0.970042</td>\n",
              "      <td>0.250526</td>\n",
              "      <td>-1.475943</td>\n",
              "      <td>-0.108831</td>\n",
              "      <td>0.162128</td>\n",
              "    </tr>\n",
              "  </tbody>\n",
              "</table>\n",
              "</div>"
            ],
            "text/plain": [
              "          0         1         2         3         4         5         6  \\\n",
              "0  1.709793  1.115052  1.469889  1.025395  0.378181 -1.607090 -0.108831   \n",
              "1 -0.483202  1.115052 -0.861151 -0.679471 -0.217544  0.337784 -0.108831   \n",
              "2 -0.564174 -0.645106 -2.026671 -0.690542 -0.209033  0.553112 -0.108831   \n",
              "3  0.866333  1.115052  1.469889  0.970042 -0.132440  0.583783 -0.108831   \n",
              "4  1.541101  1.115052  1.469889  0.970042  0.250526 -1.475943 -0.108831   \n",
              "\n",
              "          7  \n",
              "0  0.278301  \n",
              "1 -0.132179  \n",
              "2 -0.256098  \n",
              "3 -0.050858  \n",
              "4  0.162128  "
            ]
          },
          "execution_count": 7,
          "metadata": {},
          "output_type": "execute_result"
        }
      ],
      "source": [
        "train_data_filtered.head()"
      ]
    },
    {
      "cell_type": "markdown",
      "metadata": {
        "id": "crENhPCgcv44"
      },
      "source": [
        "### Compare K-means\n",
        "Build a model on the filtered data"
      ]
    },
    {
      "cell_type": "code",
      "execution_count": null,
      "metadata": {
        "id": "XHTSSwk0cv44"
      },
      "outputs": [],
      "source": [
        "kmeans_an = KMeans(n_clusters=100, random_state=0, max_iter=100, n_init=10).fit(train_data_filtered)"
      ]
    },
    {
      "cell_type": "code",
      "execution_count": null,
      "metadata": {
        "id": "EcxNJEV-cv45"
      },
      "outputs": [],
      "source": [
        "train_data_an[\"target_cluster_an\"] = kmeans_an.predict(train_data_an)"
      ]
    },
    {
      "cell_type": "markdown",
      "metadata": {
        "id": "HlzZ-iXxcv45"
      },
      "source": [
        "### Evaluation of prediction accuracy\n",
        "Assign the mean value over the cluster. No filtering/ABOD: 4.18, Smirnov: 4.16, Ellipsoidal approximation/LOF: 4.19."
      ]
    },
    {
      "cell_type": "code",
      "execution_count": null,
      "metadata": {
        "id": "hf2T9cj-cv45"
      },
      "outputs": [],
      "source": [
        "train_data_an[\"target\"] = train_data[\"target\"]"
      ]
    },
    {
      "cell_type": "code",
      "execution_count": null,
      "metadata": {
        "id": "9hr2YthCcv45"
      },
      "outputs": [],
      "source": [
        "target_cluster_an = np.round(train_data_an.groupby(\"target_cluster_an\").mean()[\"target\"])\n",
        "train_data_an[\"target_pred_an\"] = train_data_an[\"target_cluster_an\"].apply(lambda x: target_cluster_an[x])"
      ]
    },
    {
      "cell_type": "code",
      "execution_count": null,
      "metadata": {
        "id": "tHze-K0_cv45"
      },
      "outputs": [],
      "source": [
        "print (\"Filtering anomalies: \", np.exp(np.abs(train_data_an[\"target\"] - train_data_an[\"target_pred_an\"])).sum() / len(train_data_an))"
      ]
    }
  ],
  "metadata": {
    "colab": {
      "provenance": []
    },
    "kernelspec": {
      "display_name": "Python 3",
      "language": "python",
      "name": "python3"
    },
    "language_info": {
      "codemirror_mode": {
        "name": "ipython",
        "version": 3
      },
      "file_extension": ".py",
      "mimetype": "text/x-python",
      "name": "python",
      "nbconvert_exporter": "python",
      "pygments_lexer": "ipython3",
      "version": "3.8.3"
    }
  },
  "nbformat": 4,
  "nbformat_minor": 0
}
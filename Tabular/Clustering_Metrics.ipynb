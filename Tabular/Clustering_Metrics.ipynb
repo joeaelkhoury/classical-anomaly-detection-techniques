{
  "cells": [
    {
      "cell_type": "markdown",
      "metadata": {
        "id": "xlfzoisfZ0JO"
      },
      "source": [
        "# Clustering Metrics\n",
        "Discuss how to use an ensemble of metrics for selecting the optimal number of clusters\n",
        "### Data\n",
        "* https://video.ittensive.com/machine-learning/hacktherealty/exposition_train.basic.csv.gz"
      ]
    },
    {
      "cell_type": "markdown",
      "metadata": {
        "id": "OKWUgpUpAJrv"
      },
      "source": [
        "### Library Import\n"
      ]
    },
    {
      "cell_type": "code",
      "execution_count": null,
      "metadata": {
        "id": "BMMIDKFYAJGG"
      },
      "outputs": [],
      "source": [
        "import pandas as pd\n",
        "import numpy as np\n",
        "from sklearn.cluster import KMeans\n",
        "from sklearn import metrics\n",
        "import matplotlib.pyplot as plt"
      ]
    },
    {
      "cell_type": "markdown",
      "metadata": {
        "id": "MAzo0kFVZ0JZ"
      },
      "source": [
        "### Data Loading\n"
      ]
    },
    {
      "cell_type": "code",
      "execution_count": null,
      "metadata": {
        "id": "kOMFpeNOZ0JZ",
        "outputId": "3424f48f-41f6-4a6b-fb95-793852f4b5e4"
      },
      "outputs": [
        {
          "data": {
            "text/html": [
              "<div>\n",
              "<style scoped>\n",
              "    .dataframe tbody tr th:only-of-type {\n",
              "        vertical-align: middle;\n",
              "    }\n",
              "\n",
              "    .dataframe tbody tr th {\n",
              "        vertical-align: top;\n",
              "    }\n",
              "\n",
              "    .dataframe thead th {\n",
              "        text-align: right;\n",
              "    }\n",
              "</style>\n",
              "<table border=\"1\" class=\"dataframe\">\n",
              "  <thead>\n",
              "    <tr style=\"text-align: right;\">\n",
              "      <th></th>\n",
              "      <th>total_area</th>\n",
              "      <th>ceiling_height</th>\n",
              "      <th>rooms</th>\n",
              "      <th>living_area</th>\n",
              "      <th>price</th>\n",
              "      <th>day_mean</th>\n",
              "      <th>doy_108</th>\n",
              "      <th>price_locality_name_median</th>\n",
              "      <th>target</th>\n",
              "    </tr>\n",
              "  </thead>\n",
              "  <tbody>\n",
              "    <tr>\n",
              "      <th>0</th>\n",
              "      <td>105.000000</td>\n",
              "      <td>3.00</td>\n",
              "      <td>3</td>\n",
              "      <td>50.000000</td>\n",
              "      <td>95000</td>\n",
              "      <td>2.456912</td>\n",
              "      <td>0</td>\n",
              "      <td>2.261905</td>\n",
              "      <td>1</td>\n",
              "    </tr>\n",
              "    <tr>\n",
              "      <th>1</th>\n",
              "      <td>40.000000</td>\n",
              "      <td>3.00</td>\n",
              "      <td>1</td>\n",
              "      <td>19.200001</td>\n",
              "      <td>25000</td>\n",
              "      <td>3.028689</td>\n",
              "      <td>0</td>\n",
              "      <td>1.000000</td>\n",
              "      <td>2</td>\n",
              "    </tr>\n",
              "    <tr>\n",
              "      <th>2</th>\n",
              "      <td>37.599998</td>\n",
              "      <td>2.64</td>\n",
              "      <td>0</td>\n",
              "      <td>19.000000</td>\n",
              "      <td>26000</td>\n",
              "      <td>3.091993</td>\n",
              "      <td>0</td>\n",
              "      <td>0.619048</td>\n",
              "      <td>2</td>\n",
              "    </tr>\n",
              "    <tr>\n",
              "      <th>3</th>\n",
              "      <td>80.000000</td>\n",
              "      <td>3.00</td>\n",
              "      <td>3</td>\n",
              "      <td>49.000000</td>\n",
              "      <td>35000</td>\n",
              "      <td>3.101010</td>\n",
              "      <td>0</td>\n",
              "      <td>1.250000</td>\n",
              "      <td>2</td>\n",
              "    </tr>\n",
              "    <tr>\n",
              "      <th>4</th>\n",
              "      <td>100.000000</td>\n",
              "      <td>3.00</td>\n",
              "      <td>3</td>\n",
              "      <td>49.000000</td>\n",
              "      <td>80000</td>\n",
              "      <td>2.495468</td>\n",
              "      <td>0</td>\n",
              "      <td>1.904762</td>\n",
              "      <td>3</td>\n",
              "    </tr>\n",
              "  </tbody>\n",
              "</table>\n",
              "</div>"
            ],
            "text/plain": [
              "   total_area  ceiling_height  rooms  living_area  price  day_mean  doy_108  \\\n",
              "0  105.000000            3.00      3    50.000000  95000  2.456912        0   \n",
              "1   40.000000            3.00      1    19.200001  25000  3.028689        0   \n",
              "2   37.599998            2.64      0    19.000000  26000  3.091993        0   \n",
              "3   80.000000            3.00      3    49.000000  35000  3.101010        0   \n",
              "4  100.000000            3.00      3    49.000000  80000  2.495468        0   \n",
              "\n",
              "   price_locality_name_median  target  \n",
              "0                    2.261905       1  \n",
              "1                    1.000000       2  \n",
              "2                    0.619048       2  \n",
              "3                    1.250000       2  \n",
              "4                    1.904762       3  "
            ]
          },
          "execution_count": 2,
          "metadata": {},
          "output_type": "execute_result"
        }
      ],
      "source": [
        "train_data = pd.read_csv('https://video.ittensive.com/machine-learning/hacktherealty/exposition_train.basic.csv.gz')\n",
        "train_data.head()"
      ]
    },
    {
      "cell_type": "markdown",
      "metadata": {
        "id": "zLeL74DeZ0Jb"
      },
      "source": [
        "### First 10,000 elements\n"
      ]
    },
    {
      "cell_type": "code",
      "execution_count": null,
      "metadata": {
        "id": "e2gUB7H5Z0Jc"
      },
      "outputs": [],
      "source": [
        "train = pd.DataFrame(train_data[0:10000])"
      ]
    },
    {
      "cell_type": "markdown",
      "metadata": {
        "id": "L9dbpfy3Z0Jd"
      },
      "source": [
        "### K-means\n",
        "Build a set of models and evaluate their effectiveness"
      ]
    },
    {
      "cell_type": "code",
      "execution_count": null,
      "metadata": {
        "id": "8yvcjq9zZ0Je"
      },
      "outputs": [],
      "source": [
        "kmeans10 = KMeans(n_clusters=10).fit(train)"
      ]
    },
    {
      "cell_type": "code",
      "execution_count": null,
      "metadata": {
        "id": "1_WddamHZ0Je"
      },
      "outputs": [],
      "source": [
        "kmeans20 = KMeans(n_clusters=20).fit(train)"
      ]
    },
    {
      "cell_type": "code",
      "execution_count": null,
      "metadata": {
        "id": "Ut1mDr5PZ0Jf"
      },
      "outputs": [],
      "source": [
        "kmeans40 = KMeans(n_clusters=40).fit(train)"
      ]
    },
    {
      "cell_type": "code",
      "execution_count": null,
      "metadata": {
        "id": "o-m-tllmZ0Jf"
      },
      "outputs": [],
      "source": [
        "kmeans80 = KMeans(n_clusters=80).fit(train)"
      ]
    },
    {
      "cell_type": "markdown",
      "metadata": {
        "id": "6GQ-fM5lZ0Jf"
      },
      "source": [
        "### Rand\n",
        "$$RI={\\frac {TP+TN}{TP+FP+FN+TN}}$$"
      ]
    },
    {
      "cell_type": "code",
      "execution_count": null,
      "metadata": {
        "id": "we6EUHKgZ0Jf"
      },
      "outputs": [],
      "source": [
        "target_cluster10 = kmeans10.predict(train)\n",
        "target_cluster20 = kmeans20.predict(train)\n",
        "target_cluster40 = kmeans40.predict(train)\n",
        "target_cluster80 = kmeans80.predict(train)"
      ]
    },
    {
      "cell_type": "code",
      "execution_count": null,
      "metadata": {
        "id": "2bNx_sdvZ0Jg"
      },
      "outputs": [],
      "source": [
        "train[\"target_cluster10\"] = target_cluster10\n",
        "train[\"target_cluster20\"] = target_cluster20\n",
        "train[\"target_cluster40\"] = target_cluster40\n",
        "train[\"target_cluster80\"] = target_cluster80"
      ]
    },
    {
      "cell_type": "code",
      "execution_count": null,
      "metadata": {
        "id": "J_q5gdz2Z0Jg"
      },
      "outputs": [],
      "source": [
        "def predict_class (data, label, clusters_total):\n",
        "    groups = data.groupby([label,\"target\"]).count()[\"total_area\"]\n",
        "    clusters_items = [0]*clusters_total\n",
        "    clusters_popular = [0]*clusters_total\n",
        "    clusters_class = [0]*clusters_total\n",
        "    for group in groups.iteritems():\n",
        "        items = group[1]\n",
        "        cluster = group[0][0]\n",
        "        if items > clusters_popular[cluster]:\n",
        "            clusters_popular[cluster] = items\n",
        "            clusters_class[cluster] = group[0][1]\n",
        "    data[label + \"_pred\"] = data[label].apply(lambda x:clusters_class[x])\n",
        "    return data"
      ]
    },
    {
      "cell_type": "code",
      "execution_count": null,
      "metadata": {
        "id": "Xr2qaT--Z0Jh"
      },
      "outputs": [],
      "source": [
        "train = predict_class(train, \"target_cluster10\", 10)\n",
        "train = predict_class(train, \"target_cluster20\", 20)\n",
        "train = predict_class(train, \"target_cluster40\", 40)\n",
        "train = predict_class(train, \"target_cluster80\", 80)"
      ]
    },
    {
      "cell_type": "code",
      "execution_count": null,
      "metadata": {
        "id": "cjdnJ4cCZ0Jh"
      },
      "outputs": [],
      "source": [
        "ri = []\n",
        "ri.append(metrics.rand_score(train[\"target\"], train[\"target_cluster10_pred\"]))\n",
        "ri.append(metrics.rand_score(train[\"target\"], train[\"target_cluster20_pred\"]))\n",
        "ri.append(metrics.rand_score(train[\"target\"], train[\"target_cluster40_pred\"]))\n",
        "ri.append(metrics.rand_score(train[\"target\"], train[\"target_cluster80_pred\"]))"
      ]
    },
    {
      "cell_type": "code",
      "execution_count": null,
      "metadata": {
        "id": "2-aUSvqdZ0Jh",
        "outputId": "c38014d8-f98c-4500-f013-bff03be9505c"
      },
      "outputs": [
        {
          "data": {
            "image/png": "[encoded data removed]",
            "text/plain": [
              "<Figure size 432x288 with 1 Axes>"
            ]
          },
          "metadata": {
            "needs_background": "light"
          },
          "output_type": "display_data"
        }
      ],
      "source": [
        "plt.plot([10, 20, 40, 80], ri)\n",
        "plt.show()"
      ]
    },
    {
      "cell_type": "markdown",
      "metadata": {
        "id": "MBNY4k9dZ0Ji"
      },
      "source": [
        "### Silhouette\n",
        "$$s = \\frac{b - a}{max(a, b)}$$"
      ]
    },
    {
      "cell_type": "code",
      "execution_count": null,
      "metadata": {
        "id": "_z897nSXZ0Ji"
      },
      "outputs": [],
      "source": [
        "sl = []\n",
        "sl.append(metrics.silhouette_score(train, kmeans10.labels_, metric='euclidean'))\n",
        "sl.append(metrics.silhouette_score(train, kmeans20.labels_, metric='euclidean'))\n",
        "sl.append(metrics.silhouette_score(train, kmeans40.labels_, metric='euclidean'))\n",
        "sl.append(metrics.silhouette_score(train, kmeans80.labels_, metric='euclidean'))"
      ]
    },
    {
      "cell_type": "code",
      "execution_count": null,
      "metadata": {
        "id": "9ksh6tLqZ0Ji",
        "outputId": "49aa6777-55e9-4f29-8a74-ce7750c6452b"
      },
      "outputs": [
        {
          "data": {
            "image/png": "[encoded data removed]",
            "text/plain": [
              "<Figure size 432x288 with 1 Axes>"
            ]
          },
          "metadata": {
            "needs_background": "light"
          },
          "output_type": "display_data"
        }
      ],
      "source": [
        "plt.plot([10, 20, 40, 80], sl)\n",
        "plt.show()"
      ]
    },
    {
      "cell_type": "markdown",
      "metadata": {
        "id": "kY_oxNlbZ0Jj"
      },
      "source": [
        "### Davies-Bouldin Index\n",
        "$$DB = \\frac{1}{k} \\sum_{i=1}^k \\max_{i \\neq j} \\frac{s_i + s_j}{d_{ij}}$$"
      ]
    },
    {
      "cell_type": "code",
      "execution_count": null,
      "metadata": {
        "id": "zdVfZOZeZ0Jj"
      },
      "outputs": [],
      "source": [
        "db = []\n",
        "db.append(1 - metrics.davies_bouldin_score(train, kmeans10.labels_))\n",
        "db.append(1 - metrics.davies_bouldin_score(train, kmeans20.labels_))\n",
        "db.append(1 - metrics.davies_bouldin_score(train, kmeans40.labels_))\n",
        "db.append(1 - metrics.davies_bouldin_score(train, kmeans80.labels_))"
      ]
    },
    {
      "cell_type": "code",
      "execution_count": null,
      "metadata": {
        "id": "ud0niMhHZ0Jj",
        "outputId": "cf17e3fc-4e6e-4a61-b49a-3f5fda934789"
      },
      "outputs": [
        {
          "data": {
            "image/png": "[encoded data removed]",
            "text/plain": [
              "<Figure size 432x288 with 1 Axes>"
            ]
          },
          "metadata": {
            "needs_background": "light"
          },
          "output_type": "display_data"
        }
      ],
      "source": [
        "plt.plot([10, 20, 40, 80], db)\n",
        "plt.show()"
      ]
    },
    {
      "cell_type": "markdown",
      "metadata": {
        "id": "PuKV9ngRZ0Jj"
      },
      "source": [
        "### Calinski-Harabasz Index\n",
        "$$s = \\frac{\\mathrm{tr}(B_k)}{\\mathrm{tr}(W_k)} \\times \\frac{n_E - k}{k - 1}$$\n",
        "$$W_k = \\sum_{q=1}^k \\sum_{x \\in C_q} (x - c_q) (x - c_q)^T$$\n",
        "$$B_k = \\sum_{q=1}^k n_q (c_q - c_E) (c_q - c_E)^T$$"
      ]
    },
    {
      "cell_type": "code",
      "execution_count": null,
      "metadata": {
        "id": "ACtagKRWZ0Jj"
      },
      "outputs": [],
      "source": [
        "ch = []\n",
        "ch.append(metrics.calinski_harabasz_score(train, kmeans10.labels_))\n",
        "ch.append(metrics.calinski_harabasz_score(train, kmeans20.labels_))\n",
        "ch.append(metrics.calinski_harabasz_score(train, kmeans40.labels_))\n",
        "ch.append(metrics.calinski_harabasz_score(train, kmeans80.labels_))"
      ]
    },
    {
      "cell_type": "code",
      "execution_count": null,
      "metadata": {
        "id": "cWaFFn2TZ0Jk",
        "outputId": "5c46b857-f9a8-4194-ae20-a82b37babdf3"
      },
      "outputs": [
        {
          "data": {
            "image/png": "[encoded data removed]",
            "text/plain": [
              "<Figure size 432x288 with 1 Axes>"
            ]
          },
          "metadata": {
            "needs_background": "light"
          },
          "output_type": "display_data"
        }
      ],
      "source": [
        "plt.plot([10, 20, 40, 80], ch)\n",
        "plt.show()"
      ]
    }
  ],
  "metadata": {
    "colab": {
      "provenance": []
    },
    "kernelspec": {
      "display_name": "Python 3",
      "language": "python",
      "name": "python3"
    },
    "language_info": {
      "codemirror_mode": {
        "name": "ipython",
        "version": 3
      },
      "file_extension": ".py",
      "mimetype": "text/x-python",
      "name": "python",
      "nbconvert_exporter": "python",
      "pygments_lexer": "ipython3",
      "version": "3.8.3"
    }
  },
  "nbformat": 4,
  "nbformat_minor": 0
}
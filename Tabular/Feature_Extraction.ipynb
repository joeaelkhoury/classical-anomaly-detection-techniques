{
  "cells": [
    {
      "cell_type": "markdown",
      "metadata": {
        "id": "PhNXo7XBTHYI"
      },
      "source": [
        "# Feature Extraction\n",
        "We will keep only the most significant factors from all available.\n",
        "\n",
        "## Data Sources\n",
        "Training Data: `exposition_train.csv.gz`\n",
        "* https://video.ittensive.com/machine-learning/hacktherealty/exposition_train.csv.gz"
      ]
    },
    {
      "cell_type": "markdown",
      "metadata": {
        "id": "OKWUgpUpAJrv"
      },
      "source": [
        "### Importing Libraries"
      ]
    },
    {
      "cell_type": "code",
      "execution_count": null,
      "metadata": {
        "id": "BMMIDKFYAJGG"
      },
      "outputs": [],
      "source": [
        "import pandas as pd\n",
        "import numpy as np\n",
        "from sklearn.linear_model import LinearRegression"
      ]
    },
    {
      "cell_type": "markdown",
      "metadata": {
        "id": "BfoMiRLxTHYO"
      },
      "source": [
        "### Loading data"
      ]
    },
    {
      "cell_type": "code",
      "execution_count": null,
      "metadata": {
        "id": "Luyxgc_BTHYP"
      },
      "outputs": [],
      "source": [
        "train_data = pd.read_csv('exposition_train.csv')\n",
        "train_data.head()"
      ]
    },
    {
      "cell_type": "markdown",
      "metadata": {
        "id": "tbE275OkTHYQ"
      },
      "source": [
        "We remove text attributes, they are already decomposed into unit vectors"
      ]
    },
    {
      "cell_type": "code",
      "execution_count": null,
      "metadata": {
        "id": "dwhl761rTHYQ"
      },
      "outputs": [],
      "source": [
        "train_data = train_data.drop(labels=[\"parking\", \"building_type\", \"balcony\",\n",
        "                                     \"renovation\", \"locality_name\", \"metro_station\"], axis=1)"
      ]
    },
    {
      "cell_type": "markdown",
      "metadata": {
        "id": "5DCneXiKTHYQ"
      },
      "source": [
        "### Testing parameter correlation"
      ]
    },
    {
      "cell_type": "code",
      "execution_count": null,
      "metadata": {
        "id": "NP_LiGJ5THYQ",
        "outputId": "1da8a92d-ad0f-4a7a-ea33-c294af13e906"
      },
      "outputs": [
        {
          "name": "stdout",
          "output_type": "stream",
          "text": [
            "total_area 0.047077452744266224\n",
            "ceiling_height 0.018411055819145816\n",
            "rooms 0.03143849382456698\n",
            "living_area 0.04014277880539696\n",
            "price 0.01283942521085768\n",
            "day_mean 0.042714580731351814\n",
            "doy_108 0.010704859943396428\n",
            "price_locality_name_median 0.011666225448715317\n"
          ]
        }
      ],
      "source": [
        "best_features = []\n",
        "y = train_data[\"target\"]\n",
        "features_to_test = list(train_data.columns)\n",
        "for feature in train_data.columns:\n",
        "    if type(train_data[feature].values[0]) is not str and feature.find(\"target\") == -1:\n",
        "        x_feature = pd.DataFrame(train_data[feature])\n",
        "        score = LinearRegression().fit(x_feature, y).score(x_feature, y)\n",
        "# R^2 >= 0.01, r >= 0.1, 10%\n",
        "        if score > 0.01:\n",
        "            print (feature, score)\n",
        "            best_features.append(feature)"
      ]
    },
    {
      "cell_type": "code",
      "execution_count": null,
      "metadata": {
        "id": "IGq6PmGQTHYR"
      },
      "outputs": [],
      "source": [
        "print (\"The most important features:\", best_features)"
      ]
    },
    {
      "cell_type": "code",
      "execution_count": null,
      "metadata": {
        "id": "ezz5owP3THYR"
      },
      "outputs": [],
      "source": [
        "best_features.append(\"target\")"
      ]
    },
    {
      "cell_type": "markdown",
      "metadata": {
        "id": "ExeKVI0mTHYS"
      },
      "source": [
        "### Saving data"
      ]
    },
    {
      "cell_type": "code",
      "execution_count": null,
      "metadata": {
        "id": "XuIOVNoNTHYS"
      },
      "outputs": [],
      "source": [
        "train_data[best_features].to_csv(\"exposition_train.basic.csv\", index=False)"
      ]
    }
  ],
  "metadata": {
    "colab": {
      "provenance": []
    },
    "kernelspec": {
      "display_name": "Python 3",
      "language": "python",
      "name": "python3"
    },
    "language_info": {
      "codemirror_mode": {
        "name": "ipython",
        "version": 3
      },
      "file_extension": ".py",
      "mimetype": "text/x-python",
      "name": "python",
      "nbconvert_exporter": "python",
      "pygments_lexer": "ipython3",
      "version": "3.8.3"
    }
  },
  "nbformat": 4,
  "nbformat_minor": 0
}
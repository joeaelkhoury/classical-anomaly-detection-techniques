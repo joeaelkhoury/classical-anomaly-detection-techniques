{
  "cells": [
    {
      "cell_type": "markdown",
      "metadata": {
        "id": "dIThs-bbVeY-"
      },
      "source": [
        "# Spectral clustering\n",
        "### Data\n",
        "* https://video.ittensive.com/machine-learning/hacktherealty/exposition_train.basic.csv.gz"
      ]
    },
    {
      "cell_type": "markdown",
      "metadata": {
        "id": "OKWUgpUpAJrv"
      },
      "source": [
        "### Importing libraries"
      ]
    },
    {
      "cell_type": "code",
      "execution_count": null,
      "metadata": {
        "id": "BMMIDKFYAJGG"
      },
      "outputs": [],
      "source": [
        "import pandas as pd\n",
        "import numpy as np\n",
        "from sklearn.cluster import SpectralClustering\n",
        "from sklearn import metrics\n",
        "from sklearn.preprocessing import MinMaxScaler"
      ]
    },
    {
      "cell_type": "markdown",
      "metadata": {
        "id": "lwbcSVC3VeZJ"
      },
      "source": [
        "### Loading data"
      ]
    },
    {
      "cell_type": "code",
      "execution_count": null,
      "metadata": {
        "id": "-BHw1llTVeZK",
        "outputId": "e096255a-8bd4-4671-e396-f3a5125a63e0"
      },
      "outputs": [
        {
          "data": {
            "text/html": [
              "<div>\n",
              "<style scoped>\n",
              "    .dataframe tbody tr th:only-of-type {\n",
              "        vertical-align: middle;\n",
              "    }\n",
              "\n",
              "    .dataframe tbody tr th {\n",
              "        vertical-align: top;\n",
              "    }\n",
              "\n",
              "    .dataframe thead th {\n",
              "        text-align: right;\n",
              "    }\n",
              "</style>\n",
              "<table border=\"1\" class=\"dataframe\">\n",
              "  <thead>\n",
              "    <tr style=\"text-align: right;\">\n",
              "      <th></th>\n",
              "      <th>total_area</th>\n",
              "      <th>ceiling_height</th>\n",
              "      <th>rooms</th>\n",
              "      <th>living_area</th>\n",
              "      <th>price</th>\n",
              "      <th>day_mean</th>\n",
              "      <th>doy_108</th>\n",
              "      <th>price_locality_name_median</th>\n",
              "      <th>target</th>\n",
              "    </tr>\n",
              "  </thead>\n",
              "  <tbody>\n",
              "    <tr>\n",
              "      <th>0</th>\n",
              "      <td>105.000000</td>\n",
              "      <td>3.00</td>\n",
              "      <td>3</td>\n",
              "      <td>50.000000</td>\n",
              "      <td>95000</td>\n",
              "      <td>2.456912</td>\n",
              "      <td>0</td>\n",
              "      <td>2.261905</td>\n",
              "      <td>1</td>\n",
              "    </tr>\n",
              "    <tr>\n",
              "      <th>1</th>\n",
              "      <td>40.000000</td>\n",
              "      <td>3.00</td>\n",
              "      <td>1</td>\n",
              "      <td>19.200001</td>\n",
              "      <td>25000</td>\n",
              "      <td>3.028689</td>\n",
              "      <td>0</td>\n",
              "      <td>1.000000</td>\n",
              "      <td>2</td>\n",
              "    </tr>\n",
              "    <tr>\n",
              "      <th>2</th>\n",
              "      <td>37.599998</td>\n",
              "      <td>2.64</td>\n",
              "      <td>0</td>\n",
              "      <td>19.000000</td>\n",
              "      <td>26000</td>\n",
              "      <td>3.091993</td>\n",
              "      <td>0</td>\n",
              "      <td>0.619048</td>\n",
              "      <td>2</td>\n",
              "    </tr>\n",
              "    <tr>\n",
              "      <th>3</th>\n",
              "      <td>80.000000</td>\n",
              "      <td>3.00</td>\n",
              "      <td>3</td>\n",
              "      <td>49.000000</td>\n",
              "      <td>35000</td>\n",
              "      <td>3.101010</td>\n",
              "      <td>0</td>\n",
              "      <td>1.250000</td>\n",
              "      <td>2</td>\n",
              "    </tr>\n",
              "    <tr>\n",
              "      <th>4</th>\n",
              "      <td>100.000000</td>\n",
              "      <td>3.00</td>\n",
              "      <td>3</td>\n",
              "      <td>49.000000</td>\n",
              "      <td>80000</td>\n",
              "      <td>2.495468</td>\n",
              "      <td>0</td>\n",
              "      <td>1.904762</td>\n",
              "      <td>3</td>\n",
              "    </tr>\n",
              "  </tbody>\n",
              "</table>\n",
              "</div>"
            ],
            "text/plain": [
              "   total_area  ceiling_height  rooms  living_area  price  day_mean  doy_108  \\\n",
              "0  105.000000            3.00      3    50.000000  95000  2.456912        0   \n",
              "1   40.000000            3.00      1    19.200001  25000  3.028689        0   \n",
              "2   37.599998            2.64      0    19.000000  26000  3.091993        0   \n",
              "3   80.000000            3.00      3    49.000000  35000  3.101010        0   \n",
              "4  100.000000            3.00      3    49.000000  80000  2.495468        0   \n",
              "\n",
              "   price_locality_name_median  target  \n",
              "0                    2.261905       1  \n",
              "1                    1.000000       2  \n",
              "2                    0.619048       2  \n",
              "3                    1.250000       2  \n",
              "4                    1.904762       3  "
            ]
          },
          "execution_count": 2,
          "metadata": {},
          "output_type": "execute_result"
        }
      ],
      "source": [
        "train_data = pd.read_csv('https://video.ittensive.com/machine-learning/hacktherealty/exposition_train.basic.csv.gz')\n",
        "train_data.head()"
      ]
    },
    {
      "cell_type": "markdown",
      "metadata": {
        "id": "FIBFbfdPVeZM"
      },
      "source": [
        "### Data normalization\n",
        "Normalizing all values to the segment [0;1]"
      ]
    },
    {
      "cell_type": "code",
      "execution_count": null,
      "metadata": {
        "id": "_5qInYFxVeZN"
      },
      "outputs": [],
      "source": [
        "train_data_mm = pd.DataFrame(MinMaxScaler().fit_transform(train_data))"
      ]
    },
    {
      "cell_type": "code",
      "execution_count": null,
      "metadata": {
        "id": "B2R1C_A8VeZO",
        "outputId": "50cc5914-ecc6-4e6f-ed75-1cc82060ea7e"
      },
      "outputs": [
        {
          "data": {
            "text/html": [
              "<div>\n",
              "<style scoped>\n",
              "    .dataframe tbody tr th:only-of-type {\n",
              "        vertical-align: middle;\n",
              "    }\n",
              "\n",
              "    .dataframe tbody tr th {\n",
              "        vertical-align: top;\n",
              "    }\n",
              "\n",
              "    .dataframe thead th {\n",
              "        text-align: right;\n",
              "    }\n",
              "</style>\n",
              "<table border=\"1\" class=\"dataframe\">\n",
              "  <thead>\n",
              "    <tr style=\"text-align: right;\">\n",
              "      <th></th>\n",
              "      <th>0</th>\n",
              "      <th>1</th>\n",
              "      <th>2</th>\n",
              "      <th>3</th>\n",
              "      <th>4</th>\n",
              "      <th>5</th>\n",
              "      <th>6</th>\n",
              "      <th>7</th>\n",
              "      <th>8</th>\n",
              "    </tr>\n",
              "  </thead>\n",
              "  <tbody>\n",
              "    <tr>\n",
              "      <th>0</th>\n",
              "      <td>0.097782</td>\n",
              "      <td>0.333333</td>\n",
              "      <td>0.6</td>\n",
              "      <td>0.108352</td>\n",
              "      <td>0.002078</td>\n",
              "      <td>0.390327</td>\n",
              "      <td>0.0</td>\n",
              "      <td>0.002071</td>\n",
              "      <td>0.00</td>\n",
              "    </tr>\n",
              "    <tr>\n",
              "      <th>1</th>\n",
              "      <td>0.032258</td>\n",
              "      <td>0.333333</td>\n",
              "      <td>0.2</td>\n",
              "      <td>0.038826</td>\n",
              "      <td>0.000522</td>\n",
              "      <td>0.599951</td>\n",
              "      <td>0.0</td>\n",
              "      <td>0.000893</td>\n",
              "      <td>0.25</td>\n",
              "    </tr>\n",
              "    <tr>\n",
              "      <th>2</th>\n",
              "      <td>0.029839</td>\n",
              "      <td>0.213333</td>\n",
              "      <td>0.0</td>\n",
              "      <td>0.038375</td>\n",
              "      <td>0.000544</td>\n",
              "      <td>0.623160</td>\n",
              "      <td>0.0</td>\n",
              "      <td>0.000538</td>\n",
              "      <td>0.25</td>\n",
              "    </tr>\n",
              "    <tr>\n",
              "      <th>3</th>\n",
              "      <td>0.072581</td>\n",
              "      <td>0.333333</td>\n",
              "      <td>0.6</td>\n",
              "      <td>0.106095</td>\n",
              "      <td>0.000744</td>\n",
              "      <td>0.626465</td>\n",
              "      <td>0.0</td>\n",
              "      <td>0.001127</td>\n",
              "      <td>0.25</td>\n",
              "    </tr>\n",
              "    <tr>\n",
              "      <th>4</th>\n",
              "      <td>0.092742</td>\n",
              "      <td>0.333333</td>\n",
              "      <td>0.6</td>\n",
              "      <td>0.106095</td>\n",
              "      <td>0.001745</td>\n",
              "      <td>0.404462</td>\n",
              "      <td>0.0</td>\n",
              "      <td>0.001738</td>\n",
              "      <td>0.50</td>\n",
              "    </tr>\n",
              "  </tbody>\n",
              "</table>\n",
              "</div>"
            ],
            "text/plain": [
              "          0         1    2         3         4         5    6         7     8\n",
              "0  0.097782  0.333333  0.6  0.108352  0.002078  0.390327  0.0  0.002071  0.00\n",
              "1  0.032258  0.333333  0.2  0.038826  0.000522  0.599951  0.0  0.000893  0.25\n",
              "2  0.029839  0.213333  0.0  0.038375  0.000544  0.623160  0.0  0.000538  0.25\n",
              "3  0.072581  0.333333  0.6  0.106095  0.000744  0.626465  0.0  0.001127  0.25\n",
              "4  0.092742  0.333333  0.6  0.106095  0.001745  0.404462  0.0  0.001738  0.50"
            ]
          },
          "execution_count": 4,
          "metadata": {},
          "output_type": "execute_result"
        }
      ],
      "source": [
        "train_data_mm.head()"
      ]
    },
    {
      "cell_type": "markdown",
      "metadata": {
        "id": "CH52zIUPVeZP"
      },
      "source": [
        "### Spectral clustering\n",
        "Looking for eigenvectors (directions) in a Kirchhoff matrix (data proximity graph). Memory demanding."
      ]
    },
    {
      "cell_type": "code",
      "execution_count": null,
      "metadata": {
        "id": "Vzthc6MOVeZQ"
      },
      "outputs": [],
      "source": [
        "sp = SpectralClustering(n_clusters=100, random_state=42).fit(train_data_mm[0:10000])"
      ]
    },
    {
      "cell_type": "code",
      "execution_count": null,
      "metadata": {
        "id": "3yriP9QZVeZR",
        "outputId": "bf4bc9fe-4fc3-4389-8407-2b9ed4c92951"
      },
      "outputs": [
        {
          "name": "stdout",
          "output_type": "stream",
          "text": [
            "-0.22534629168323583\n"
          ]
        }
      ],
      "source": [
        "print(1 - metrics.davies_bouldin_score(train_data_mm[0:10000], sp.labels_)) # -0.2"
      ]
    },
    {
      "cell_type": "code",
      "execution_count": null,
      "metadata": {
        "id": "-XOxafNUVeZR",
        "outputId": "f9c55d60-8dc7-478c-ec26-3f9f1fa8cec5"
      },
      "outputs": [
        {
          "name": "stdout",
          "output_type": "stream",
          "text": [
            "[ 0  1  2  3  4  5  6  7  8  9 10 11 12 13 14 15 16 17 18 19 20 21 22 23\n",
            " 24 25 26 27 28 29 30 31 32 33 34 35 36 37 38 39 40 41 42 43 44 45 46 47\n",
            " 48 49 50 51 52 53 54 55 56 57 58 59 60 61 62 63 64 65 66 67 68 69 70 71\n",
            " 72 73 74 75 76 77 78 79 80 81 82 83 84 85 86 87 88 89 90 91 92 93 94 95\n",
            " 96 97 98 99]\n"
          ]
        }
      ],
      "source": [
        "print (np.unique(sp.labels_))"
      ]
    },
    {
      "cell_type": "code",
      "execution_count": null,
      "metadata": {
        "id": "boDnluP0VeZT",
        "outputId": "7fffcb6c-65aa-409b-bfa1-9e562cdbaebd"
      },
      "outputs": [
        {
          "data": {
            "text/html": [
              "<div>\n",
              "<style scoped>\n",
              "    .dataframe tbody tr th:only-of-type {\n",
              "        vertical-align: middle;\n",
              "    }\n",
              "\n",
              "    .dataframe tbody tr th {\n",
              "        vertical-align: top;\n",
              "    }\n",
              "\n",
              "    .dataframe thead th {\n",
              "        text-align: right;\n",
              "    }\n",
              "</style>\n",
              "<table border=\"1\" class=\"dataframe\">\n",
              "  <thead>\n",
              "    <tr style=\"text-align: right;\">\n",
              "      <th></th>\n",
              "      <th>total_area</th>\n",
              "      <th>ceiling_height</th>\n",
              "      <th>rooms</th>\n",
              "      <th>living_area</th>\n",
              "      <th>price</th>\n",
              "      <th>day_mean</th>\n",
              "      <th>doy_108</th>\n",
              "      <th>price_locality_name_median</th>\n",
              "      <th>target</th>\n",
              "    </tr>\n",
              "  </thead>\n",
              "  <tbody>\n",
              "    <tr>\n",
              "      <th>0</th>\n",
              "      <td>105.0</td>\n",
              "      <td>3.00</td>\n",
              "      <td>3</td>\n",
              "      <td>50.0</td>\n",
              "      <td>95000</td>\n",
              "      <td>2.456912</td>\n",
              "      <td>0</td>\n",
              "      <td>2.261905</td>\n",
              "      <td>1</td>\n",
              "    </tr>\n",
              "    <tr>\n",
              "      <th>129</th>\n",
              "      <td>78.0</td>\n",
              "      <td>3.00</td>\n",
              "      <td>3</td>\n",
              "      <td>51.0</td>\n",
              "      <td>75000</td>\n",
              "      <td>2.830472</td>\n",
              "      <td>0</td>\n",
              "      <td>1.785714</td>\n",
              "      <td>1</td>\n",
              "    </tr>\n",
              "    <tr>\n",
              "      <th>178</th>\n",
              "      <td>154.0</td>\n",
              "      <td>3.00</td>\n",
              "      <td>4</td>\n",
              "      <td>78.0</td>\n",
              "      <td>200000</td>\n",
              "      <td>2.495298</td>\n",
              "      <td>0</td>\n",
              "      <td>4.761905</td>\n",
              "      <td>1</td>\n",
              "    </tr>\n",
              "    <tr>\n",
              "      <th>2240</th>\n",
              "      <td>92.0</td>\n",
              "      <td>2.80</td>\n",
              "      <td>3</td>\n",
              "      <td>53.0</td>\n",
              "      <td>45000</td>\n",
              "      <td>2.827214</td>\n",
              "      <td>0</td>\n",
              "      <td>1.500000</td>\n",
              "      <td>1</td>\n",
              "    </tr>\n",
              "    <tr>\n",
              "      <th>2450</th>\n",
              "      <td>98.0</td>\n",
              "      <td>2.78</td>\n",
              "      <td>4</td>\n",
              "      <td>66.0</td>\n",
              "      <td>80000</td>\n",
              "      <td>3.170843</td>\n",
              "      <td>0</td>\n",
              "      <td>1.904762</td>\n",
              "      <td>1</td>\n",
              "    </tr>\n",
              "    <tr>\n",
              "      <th>...</th>\n",
              "      <td>...</td>\n",
              "      <td>...</td>\n",
              "      <td>...</td>\n",
              "      <td>...</td>\n",
              "      <td>...</td>\n",
              "      <td>...</td>\n",
              "      <td>...</td>\n",
              "      <td>...</td>\n",
              "      <td>...</td>\n",
              "    </tr>\n",
              "    <tr>\n",
              "      <th>9173</th>\n",
              "      <td>120.0</td>\n",
              "      <td>3.00</td>\n",
              "      <td>3</td>\n",
              "      <td>80.0</td>\n",
              "      <td>130000</td>\n",
              "      <td>2.980952</td>\n",
              "      <td>0</td>\n",
              "      <td>3.095238</td>\n",
              "      <td>1</td>\n",
              "    </tr>\n",
              "    <tr>\n",
              "      <th>9190</th>\n",
              "      <td>120.0</td>\n",
              "      <td>3.00</td>\n",
              "      <td>3</td>\n",
              "      <td>90.0</td>\n",
              "      <td>70000</td>\n",
              "      <td>2.980952</td>\n",
              "      <td>0</td>\n",
              "      <td>1.666667</td>\n",
              "      <td>1</td>\n",
              "    </tr>\n",
              "    <tr>\n",
              "      <th>9192</th>\n",
              "      <td>80.0</td>\n",
              "      <td>3.20</td>\n",
              "      <td>3</td>\n",
              "      <td>50.0</td>\n",
              "      <td>100000</td>\n",
              "      <td>2.980952</td>\n",
              "      <td>0</td>\n",
              "      <td>2.380952</td>\n",
              "      <td>1</td>\n",
              "    </tr>\n",
              "    <tr>\n",
              "      <th>9636</th>\n",
              "      <td>164.0</td>\n",
              "      <td>3.00</td>\n",
              "      <td>3</td>\n",
              "      <td>90.0</td>\n",
              "      <td>19751</td>\n",
              "      <td>3.017632</td>\n",
              "      <td>0</td>\n",
              "      <td>0.470262</td>\n",
              "      <td>1</td>\n",
              "    </tr>\n",
              "    <tr>\n",
              "      <th>9872</th>\n",
              "      <td>110.0</td>\n",
              "      <td>3.00</td>\n",
              "      <td>3</td>\n",
              "      <td>85.0</td>\n",
              "      <td>125000</td>\n",
              "      <td>3.067692</td>\n",
              "      <td>0</td>\n",
              "      <td>2.976190</td>\n",
              "      <td>1</td>\n",
              "    </tr>\n",
              "  </tbody>\n",
              "</table>\n",
              "<p>68 rows × 9 columns</p>\n",
              "</div>"
            ],
            "text/plain": [
              "      total_area  ceiling_height  rooms  living_area   price  day_mean  \\\n",
              "0          105.0            3.00      3         50.0   95000  2.456912   \n",
              "129         78.0            3.00      3         51.0   75000  2.830472   \n",
              "178        154.0            3.00      4         78.0  200000  2.495298   \n",
              "2240        92.0            2.80      3         53.0   45000  2.827214   \n",
              "2450        98.0            2.78      4         66.0   80000  3.170843   \n",
              "...          ...             ...    ...          ...     ...       ...   \n",
              "9173       120.0            3.00      3         80.0  130000  2.980952   \n",
              "9190       120.0            3.00      3         90.0   70000  2.980952   \n",
              "9192        80.0            3.20      3         50.0  100000  2.980952   \n",
              "9636       164.0            3.00      3         90.0   19751  3.017632   \n",
              "9872       110.0            3.00      3         85.0  125000  3.067692   \n",
              "\n",
              "      doy_108  price_locality_name_median  target  \n",
              "0           0                    2.261905       1  \n",
              "129         0                    1.785714       1  \n",
              "178         0                    4.761905       1  \n",
              "2240        0                    1.500000       1  \n",
              "2450        0                    1.904762       1  \n",
              "...       ...                         ...     ...  \n",
              "9173        0                    3.095238       1  \n",
              "9190        0                    1.666667       1  \n",
              "9192        0                    2.380952       1  \n",
              "9636        0                    0.470262       1  \n",
              "9872        0                    2.976190       1  \n",
              "\n",
              "[68 rows x 9 columns]"
            ]
          },
          "execution_count": 8,
          "metadata": {},
          "output_type": "execute_result"
        }
      ],
      "source": [
        "train_data.iloc[list(np.where(sp.labels_==sp.labels_[0])[0])]"
      ]
    }
  ],
  "metadata": {
    "colab": {
      "provenance": []
    },
    "kernelspec": {
      "display_name": "Python 3",
      "language": "python",
      "name": "python3"
    },
    "language_info": {
      "codemirror_mode": {
        "name": "ipython",
        "version": 3
      },
      "file_extension": ".py",
      "mimetype": "text/x-python",
      "name": "python",
      "nbconvert_exporter": "python",
      "pygments_lexer": "ipython3",
      "version": "3.8.3"
    }
  },
  "nbformat": 4,
  "nbformat_minor": 0
}
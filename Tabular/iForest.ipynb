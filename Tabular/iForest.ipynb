{
  "cells": [
    {
      "cell_type": "markdown",
      "metadata": {
        "id": "zPwTT2yUdMA1"
      },
      "source": [
        "# Isolation Forest (iForest)\n",
        "### Data\n",
        "* https://video.ittensive.com/machine-learning/hacktherealty/exposition_train.basic.csv.gz"
      ]
    },
    {
      "cell_type": "markdown",
      "metadata": {
        "id": "OKWUgpUpAJrv"
      },
      "source": [
        "### Connecting libraries"
      ]
    },
    {
      "cell_type": "code",
      "execution_count": null,
      "metadata": {
        "id": "BMMIDKFYAJGG"
      },
      "outputs": [],
      "source": [
        "import pandas as pd\n",
        "import numpy as np\n",
        "from sklearn.cluster import KMeans\n",
        "from pyod.models.iforest import IForest\n",
        "from sklearn import metrics\n",
        "from sklearn.preprocessing import StandardScaler"
      ]
    },
    {
      "cell_type": "markdown",
      "metadata": {
        "id": "TA9r9_DRdMA-"
      },
      "source": [
        "### Loading data"
      ]
    },
    {
      "cell_type": "code",
      "execution_count": null,
      "metadata": {
        "id": "mpMGUCiIdMA-",
        "outputId": "5fb525ab-bd52-4c6f-c6ad-675caf0ad39f"
      },
      "outputs": [
        {
          "data": {
            "text/html": [
              "<div>\n",
              "<style scoped>\n",
              "    .dataframe tbody tr th:only-of-type {\n",
              "        vertical-align: middle;\n",
              "    }\n",
              "\n",
              "    .dataframe tbody tr th {\n",
              "        vertical-align: top;\n",
              "    }\n",
              "\n",
              "    .dataframe thead th {\n",
              "        text-align: right;\n",
              "    }\n",
              "</style>\n",
              "<table border=\"1\" class=\"dataframe\">\n",
              "  <thead>\n",
              "    <tr style=\"text-align: right;\">\n",
              "      <th></th>\n",
              "      <th>total_area</th>\n",
              "      <th>ceiling_height</th>\n",
              "      <th>rooms</th>\n",
              "      <th>living_area</th>\n",
              "      <th>price</th>\n",
              "      <th>day_mean</th>\n",
              "      <th>doy_108</th>\n",
              "      <th>price_locality_name_median</th>\n",
              "      <th>target</th>\n",
              "    </tr>\n",
              "  </thead>\n",
              "  <tbody>\n",
              "    <tr>\n",
              "      <th>0</th>\n",
              "      <td>105.000000</td>\n",
              "      <td>3.00</td>\n",
              "      <td>3</td>\n",
              "      <td>50.000000</td>\n",
              "      <td>95000</td>\n",
              "      <td>2.456912</td>\n",
              "      <td>0</td>\n",
              "      <td>2.261905</td>\n",
              "      <td>1</td>\n",
              "    </tr>\n",
              "    <tr>\n",
              "      <th>1</th>\n",
              "      <td>40.000000</td>\n",
              "      <td>3.00</td>\n",
              "      <td>1</td>\n",
              "      <td>19.200001</td>\n",
              "      <td>25000</td>\n",
              "      <td>3.028689</td>\n",
              "      <td>0</td>\n",
              "      <td>1.000000</td>\n",
              "      <td>2</td>\n",
              "    </tr>\n",
              "    <tr>\n",
              "      <th>2</th>\n",
              "      <td>37.599998</td>\n",
              "      <td>2.64</td>\n",
              "      <td>0</td>\n",
              "      <td>19.000000</td>\n",
              "      <td>26000</td>\n",
              "      <td>3.091993</td>\n",
              "      <td>0</td>\n",
              "      <td>0.619048</td>\n",
              "      <td>2</td>\n",
              "    </tr>\n",
              "    <tr>\n",
              "      <th>3</th>\n",
              "      <td>80.000000</td>\n",
              "      <td>3.00</td>\n",
              "      <td>3</td>\n",
              "      <td>49.000000</td>\n",
              "      <td>35000</td>\n",
              "      <td>3.101010</td>\n",
              "      <td>0</td>\n",
              "      <td>1.250000</td>\n",
              "      <td>2</td>\n",
              "    </tr>\n",
              "    <tr>\n",
              "      <th>4</th>\n",
              "      <td>100.000000</td>\n",
              "      <td>3.00</td>\n",
              "      <td>3</td>\n",
              "      <td>49.000000</td>\n",
              "      <td>80000</td>\n",
              "      <td>2.495468</td>\n",
              "      <td>0</td>\n",
              "      <td>1.904762</td>\n",
              "      <td>3</td>\n",
              "    </tr>\n",
              "  </tbody>\n",
              "</table>\n",
              "</div>"
            ],
            "text/plain": [
              "   total_area  ceiling_height  rooms  living_area  price  day_mean  doy_108  \\\n",
              "0  105.000000            3.00      3    50.000000  95000  2.456912        0   \n",
              "1   40.000000            3.00      1    19.200001  25000  3.028689        0   \n",
              "2   37.599998            2.64      0    19.000000  26000  3.091993        0   \n",
              "3   80.000000            3.00      3    49.000000  35000  3.101010        0   \n",
              "4  100.000000            3.00      3    49.000000  80000  2.495468        0   \n",
              "\n",
              "   price_locality_name_median  target  \n",
              "0                    2.261905       1  \n",
              "1                    1.000000       2  \n",
              "2                    0.619048       2  \n",
              "3                    1.250000       2  \n",
              "4                    1.904762       3  "
            ]
          },
          "execution_count": 2,
          "metadata": {},
          "output_type": "execute_result"
        }
      ],
      "source": [
        "train_data = pd.read_csv('https://video.ittensive.com/machine-learning/hacktherealty/exposition_train.basic.csv.gz')\n",
        "train_data.head()"
      ]
    },
    {
      "cell_type": "markdown",
      "metadata": {
        "id": "ErjnzMbhdMBA"
      },
      "source": [
        "### Data normalization\n",
        "Normalize all values to the segment [0;1], remove the target from the data"
      ]
    },
    {
      "cell_type": "code",
      "execution_count": null,
      "metadata": {
        "id": "y_RGyhsmdMBA"
      },
      "outputs": [],
      "source": [
        "train_data_an = pd.DataFrame(StandardScaler().fit_transform(train_data[train_data.columns[:-1]]))"
      ]
    },
    {
      "cell_type": "code",
      "execution_count": null,
      "metadata": {
        "id": "2bcC64WBdMBB",
        "outputId": "4010c531-a194-4155-e9d4-dcc4d5cc6a29"
      },
      "outputs": [
        {
          "data": {
            "text/html": [
              "<div>\n",
              "<style scoped>\n",
              "    .dataframe tbody tr th:only-of-type {\n",
              "        vertical-align: middle;\n",
              "    }\n",
              "\n",
              "    .dataframe tbody tr th {\n",
              "        vertical-align: top;\n",
              "    }\n",
              "\n",
              "    .dataframe thead th {\n",
              "        text-align: right;\n",
              "    }\n",
              "</style>\n",
              "<table border=\"1\" class=\"dataframe\">\n",
              "  <thead>\n",
              "    <tr style=\"text-align: right;\">\n",
              "      <th></th>\n",
              "      <th>0</th>\n",
              "      <th>1</th>\n",
              "      <th>2</th>\n",
              "      <th>3</th>\n",
              "      <th>4</th>\n",
              "      <th>5</th>\n",
              "      <th>6</th>\n",
              "      <th>7</th>\n",
              "    </tr>\n",
              "  </thead>\n",
              "  <tbody>\n",
              "    <tr>\n",
              "      <th>0</th>\n",
              "      <td>1.709793</td>\n",
              "      <td>1.115052</td>\n",
              "      <td>1.469889</td>\n",
              "      <td>1.025395</td>\n",
              "      <td>0.378181</td>\n",
              "      <td>-1.607090</td>\n",
              "      <td>-0.108831</td>\n",
              "      <td>0.278301</td>\n",
              "    </tr>\n",
              "    <tr>\n",
              "      <th>1</th>\n",
              "      <td>-0.483202</td>\n",
              "      <td>1.115052</td>\n",
              "      <td>-0.861151</td>\n",
              "      <td>-0.679471</td>\n",
              "      <td>-0.217544</td>\n",
              "      <td>0.337784</td>\n",
              "      <td>-0.108831</td>\n",
              "      <td>-0.132179</td>\n",
              "    </tr>\n",
              "    <tr>\n",
              "      <th>2</th>\n",
              "      <td>-0.564174</td>\n",
              "      <td>-0.645106</td>\n",
              "      <td>-2.026671</td>\n",
              "      <td>-0.690542</td>\n",
              "      <td>-0.209033</td>\n",
              "      <td>0.553112</td>\n",
              "      <td>-0.108831</td>\n",
              "      <td>-0.256098</td>\n",
              "    </tr>\n",
              "    <tr>\n",
              "      <th>3</th>\n",
              "      <td>0.866333</td>\n",
              "      <td>1.115052</td>\n",
              "      <td>1.469889</td>\n",
              "      <td>0.970042</td>\n",
              "      <td>-0.132440</td>\n",
              "      <td>0.583783</td>\n",
              "      <td>-0.108831</td>\n",
              "      <td>-0.050858</td>\n",
              "    </tr>\n",
              "    <tr>\n",
              "      <th>4</th>\n",
              "      <td>1.541101</td>\n",
              "      <td>1.115052</td>\n",
              "      <td>1.469889</td>\n",
              "      <td>0.970042</td>\n",
              "      <td>0.250526</td>\n",
              "      <td>-1.475943</td>\n",
              "      <td>-0.108831</td>\n",
              "      <td>0.162128</td>\n",
              "    </tr>\n",
              "  </tbody>\n",
              "</table>\n",
              "</div>"
            ],
            "text/plain": [
              "          0         1         2         3         4         5         6  \\\n",
              "0  1.709793  1.115052  1.469889  1.025395  0.378181 -1.607090 -0.108831   \n",
              "1 -0.483202  1.115052 -0.861151 -0.679471 -0.217544  0.337784 -0.108831   \n",
              "2 -0.564174 -0.645106 -2.026671 -0.690542 -0.209033  0.553112 -0.108831   \n",
              "3  0.866333  1.115052  1.469889  0.970042 -0.132440  0.583783 -0.108831   \n",
              "4  1.541101  1.115052  1.469889  0.970042  0.250526 -1.475943 -0.108831   \n",
              "\n",
              "          7  \n",
              "0  0.278301  \n",
              "1 -0.132179  \n",
              "2 -0.256098  \n",
              "3 -0.050858  \n",
              "4  0.162128  "
            ]
          },
          "execution_count": 4,
          "metadata": {},
          "output_type": "execute_result"
        }
      ],
      "source": [
        "train_data_an.head()"
      ]
    },
    {
      "cell_type": "markdown",
      "metadata": {
        "id": "ZXhclFuQdMBC"
      },
      "source": [
        "### Isolation Forest"
      ]
    },
    {
      "cell_type": "code",
      "execution_count": null,
      "metadata": {
        "id": "i0iVHQW2dMBD"
      },
      "outputs": [],
      "source": [
        "iforest = IForest(contamination=0.1, n_jobs=-1).fit(train_data_an)"
      ]
    },
    {
      "cell_type": "markdown",
      "metadata": {
        "id": "y_bgZFZAdMBE"
      },
      "source": [
        "Filter out the anomalous data"
      ]
    },
    {
      "cell_type": "code",
      "execution_count": null,
      "metadata": {
        "id": "Ca760cDjdMBF",
        "outputId": "0fd8f894-50ea-40b0-e61c-40a558c2206a"
      },
      "outputs": [
        {
          "name": "stdout",
          "output_type": "stream",
          "text": [
            "Процент аномалий: 10.0 %\n"
          ]
        }
      ],
      "source": [
        "train_data_filtered = train_data_an[train_data_an.index.isin(np.where(iforest.labels_==0)[0])]\n",
        "print (\"Percentage of anomalies:\", round(100*len(iforest.labels_[np.where(iforest.labels_==1)])/len(train_data_an),2), \"%\")"
      ]
    },
    {
      "cell_type": "code",
      "execution_count": null,
      "metadata": {
        "id": "JprVYA6tdMBG",
        "outputId": "a3e6dbef-fcf1-452a-c89d-77014f403178"
      },
      "outputs": [
        {
          "data": {
            "text/html": [
              "<div>\n",
              "<style scoped>\n",
              "    .dataframe tbody tr th:only-of-type {\n",
              "        vertical-align: middle;\n",
              "    }\n",
              "\n",
              "    .dataframe tbody tr th {\n",
              "        vertical-align: top;\n",
              "    }\n",
              "\n",
              "    .dataframe thead th {\n",
              "        text-align: right;\n",
              "    }\n",
              "</style>\n",
              "<table border=\"1\" class=\"dataframe\">\n",
              "  <thead>\n",
              "    <tr style=\"text-align: right;\">\n",
              "      <th></th>\n",
              "      <th>0</th>\n",
              "      <th>1</th>\n",
              "      <th>2</th>\n",
              "      <th>3</th>\n",
              "      <th>4</th>\n",
              "      <th>5</th>\n",
              "      <th>6</th>\n",
              "      <th>7</th>\n",
              "    </tr>\n",
              "  </thead>\n",
              "  <tbody>\n",
              "    <tr>\n",
              "      <th>1</th>\n",
              "      <td>-0.483202</td>\n",
              "      <td>1.115052</td>\n",
              "      <td>-0.861151</td>\n",
              "      <td>-0.679471</td>\n",
              "      <td>-0.217544</td>\n",
              "      <td>0.337784</td>\n",
              "      <td>-0.108831</td>\n",
              "      <td>-0.132179</td>\n",
              "    </tr>\n",
              "    <tr>\n",
              "      <th>2</th>\n",
              "      <td>-0.564174</td>\n",
              "      <td>-0.645106</td>\n",
              "      <td>-2.026671</td>\n",
              "      <td>-0.690542</td>\n",
              "      <td>-0.209033</td>\n",
              "      <td>0.553112</td>\n",
              "      <td>-0.108831</td>\n",
              "      <td>-0.256098</td>\n",
              "    </tr>\n",
              "    <tr>\n",
              "      <th>3</th>\n",
              "      <td>0.866333</td>\n",
              "      <td>1.115052</td>\n",
              "      <td>1.469889</td>\n",
              "      <td>0.970042</td>\n",
              "      <td>-0.132440</td>\n",
              "      <td>0.583783</td>\n",
              "      <td>-0.108831</td>\n",
              "      <td>-0.050858</td>\n",
              "    </tr>\n",
              "    <tr>\n",
              "      <th>4</th>\n",
              "      <td>1.541101</td>\n",
              "      <td>1.115052</td>\n",
              "      <td>1.469889</td>\n",
              "      <td>0.970042</td>\n",
              "      <td>0.250526</td>\n",
              "      <td>-1.475943</td>\n",
              "      <td>-0.108831</td>\n",
              "      <td>0.162128</td>\n",
              "    </tr>\n",
              "    <tr>\n",
              "      <th>5</th>\n",
              "      <td>-0.584417</td>\n",
              "      <td>-0.645106</td>\n",
              "      <td>-0.861151</td>\n",
              "      <td>-0.911953</td>\n",
              "      <td>-0.217544</td>\n",
              "      <td>-0.328726</td>\n",
              "      <td>-0.108831</td>\n",
              "      <td>-0.263843</td>\n",
              "    </tr>\n",
              "  </tbody>\n",
              "</table>\n",
              "</div>"
            ],
            "text/plain": [
              "          0         1         2         3         4         5         6  \\\n",
              "1 -0.483202  1.115052 -0.861151 -0.679471 -0.217544  0.337784 -0.108831   \n",
              "2 -0.564174 -0.645106 -2.026671 -0.690542 -0.209033  0.553112 -0.108831   \n",
              "3  0.866333  1.115052  1.469889  0.970042 -0.132440  0.583783 -0.108831   \n",
              "4  1.541101  1.115052  1.469889  0.970042  0.250526 -1.475943 -0.108831   \n",
              "5 -0.584417 -0.645106 -0.861151 -0.911953 -0.217544 -0.328726 -0.108831   \n",
              "\n",
              "          7  \n",
              "1 -0.132179  \n",
              "2 -0.256098  \n",
              "3 -0.050858  \n",
              "4  0.162128  \n",
              "5 -0.263843  "
            ]
          },
          "execution_count": 7,
          "metadata": {},
          "output_type": "execute_result"
        }
      ],
      "source": [
        "train_data_filtered.head()"
      ]
    },
    {
      "cell_type": "markdown",
      "metadata": {
        "id": "V__qBgUOdMBH"
      },
      "source": [
        "### Compare K-means\n",
        "Build a model on the filtered data"
      ]
    },
    {
      "cell_type": "code",
      "execution_count": null,
      "metadata": {
        "id": "PbPXqODcdMBI"
      },
      "outputs": [],
      "source": [
        "kmeans_an = KMeans(n_clusters=100, random_state=0, max_iter=50, n_init=50).fit(train_data_filtered)"
      ]
    },
    {
      "cell_type": "code",
      "execution_count": null,
      "metadata": {
        "id": "se2dKMG2dMBI"
      },
      "outputs": [],
      "source": [
        "train_data_an[\"target_cluster_an\"] = kmeans_an.predict(train_data_an)"
      ]
    },
    {
      "cell_type": "markdown",
      "metadata": {
        "id": "AxizWyHvdMBI"
      },
      "source": [
        "### Evaluation of prediction accuracy\n",
        "Assign the mean value over the cluster. No filtering/ABOD: 4.18, Smirnov: 4.16, Ellipsoidal approximation/LOF: 4.19, COPOD: 4.17."
      ]
    },
    {
      "cell_type": "code",
      "execution_count": null,
      "metadata": {
        "id": "boQQM6P3dMBJ"
      },
      "outputs": [],
      "source": [
        "train_data_an[\"target\"] = train_data[\"target\"]"
      ]
    },
    {
      "cell_type": "code",
      "execution_count": null,
      "metadata": {
        "id": "t2OeI_3tdMBJ"
      },
      "outputs": [],
      "source": [
        "target_cluster_an = np.round(train_data_an.groupby(\"target_cluster_an\").mean()[\"target\"])\n",
        "train_data_an[\"target_pred_an\"] = train_data_an[\"target_cluster_an\"].apply(lambda x: target_cluster_an[x])"
      ]
    },
    {
      "cell_type": "code",
      "execution_count": null,
      "metadata": {
        "id": "XEQOgBDWdMBJ"
      },
      "outputs": [],
      "source": [
        "print (\"Filtering anomalies: \", np.exp(np.abs(train_data_an[\"target\"] - train_data_an[\"target_pred_an\"])).sum() / len(train_data_an))"
      ]
    }
  ],
  "metadata": {
    "colab": {
      "provenance": []
    },
    "kernelspec": {
      "display_name": "Python 3",
      "language": "python",
      "name": "python3"
    },
    "language_info": {
      "codemirror_mode": {
        "name": "ipython",
        "version": 3
      },
      "file_extension": ".py",
      "mimetype": "text/x-python",
      "name": "python",
      "nbconvert_exporter": "python",
      "pygments_lexer": "ipython3",
      "version": "3.8.3"
    }
  },
  "nbformat": 4,
  "nbformat_minor": 0
}